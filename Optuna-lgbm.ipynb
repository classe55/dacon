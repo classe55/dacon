{
 "cells": [
  {
   "cell_type": "code",
   "execution_count": 27,
   "id": "332f7ed6-12c4-4793-a0f5-2dbc5fe647d0",
   "metadata": {},
   "outputs": [],
   "source": [
    "import pandas as pd\n",
    "\n",
    "sub = pd.read_csv('../ 잡케어 추천 알고리즘/job_care/sample_submission.csv')\n",
    "train = pd.read_csv('../ 잡케어 추천 알고리즘/job_care/train.csv')\n",
    "test = pd.read_csv('../ 잡케어 추천 알고리즘/job_care/test.csv')\n",
    "\n",
    "# person_rn :  사용자번호\n",
    "# contents_rn :  컨텐츠번호\n",
    "# contents_open_dt :  컨텐츠 열람 일시"
   ]
  },
  {
   "cell_type": "code",
   "execution_count": 63,
   "id": "aae373e8-13e7-4122-9855-5ec2f6da6aeb",
   "metadata": {},
   "outputs": [],
   "source": [
    "y = train['target']\n",
    "train = train.drop(['id','target','person_rn','contents_rn','contents_open_dt'],axis=1)\n",
    "test = test.drop(['id','person_rn','contents_rn','contents_open_dt'],axis=1)"
   ]
  },
  {
   "cell_type": "code",
   "execution_count": 64,
   "id": "093024a8-0c8c-4b93-a6c1-b69e13043445",
   "metadata": {
    "scrolled": true,
    "tags": []
   },
   "outputs": [
    {
     "name": "stdout",
     "output_type": "stream",
     "text": [
      "<class 'pandas.core.frame.DataFrame'>\n",
      "RangeIndex: 501951 entries, 0 to 501950\n",
      "Data columns (total 30 columns):\n",
      " #   Column                  Non-Null Count   Dtype\n",
      "---  ------                  --------------   -----\n",
      " 0   d_l_match_yn            501951 non-null  bool \n",
      " 1   d_m_match_yn            501951 non-null  bool \n",
      " 2   d_s_match_yn            501951 non-null  bool \n",
      " 3   h_l_match_yn            501951 non-null  bool \n",
      " 4   h_m_match_yn            501951 non-null  bool \n",
      " 5   h_s_match_yn            501951 non-null  bool \n",
      " 6   person_attribute_a      501951 non-null  int64\n",
      " 7   person_attribute_a_1    501951 non-null  int64\n",
      " 8   person_attribute_b      501951 non-null  int64\n",
      " 9   person_prefer_c         501951 non-null  int64\n",
      " 10  person_prefer_d_1       501951 non-null  int64\n",
      " 11  person_prefer_d_2       501951 non-null  int64\n",
      " 12  person_prefer_d_3       501951 non-null  int64\n",
      " 13  person_prefer_e         501951 non-null  int64\n",
      " 14  person_prefer_f         501951 non-null  int64\n",
      " 15  person_prefer_g         501951 non-null  int64\n",
      " 16  person_prefer_h_1       501951 non-null  int64\n",
      " 17  person_prefer_h_2       501951 non-null  int64\n",
      " 18  person_prefer_h_3       501951 non-null  int64\n",
      " 19  contents_attribute_i    501951 non-null  int64\n",
      " 20  contents_attribute_a    501951 non-null  int64\n",
      " 21  contents_attribute_j_1  501951 non-null  int64\n",
      " 22  contents_attribute_j    501951 non-null  int64\n",
      " 23  contents_attribute_c    501951 non-null  int64\n",
      " 24  contents_attribute_k    501951 non-null  int64\n",
      " 25  contents_attribute_l    501951 non-null  int64\n",
      " 26  contents_attribute_d    501951 non-null  int64\n",
      " 27  contents_attribute_m    501951 non-null  int64\n",
      " 28  contents_attribute_e    501951 non-null  int64\n",
      " 29  contents_attribute_h    501951 non-null  int64\n",
      "dtypes: bool(6), int64(24)\n",
      "memory usage: 94.8 MB\n"
     ]
    }
   ],
   "source": [
    "train =pd.get_dummies(train)\n",
    "test =pd.get_dummies(test)\n",
    "train.info()"
   ]
  },
  {
   "cell_type": "code",
   "execution_count": null,
   "id": "3e666f4f-990b-4256-869d-eaefe8ed2367",
   "metadata": {},
   "outputs": [],
   "source": [
    "bool_col=train.select_dtypes('bool').columns\n",
    "\n",
    "train[bool_col] = train[bool_col].astype('int')\n",
    "test[bool_col] = test[bool_col].astype('int')\n",
    "\n"
   ]
  },
  {
   "cell_type": "code",
   "execution_count": 81,
   "id": "d8d05b9f-b24a-498a-bc38-ed844824b988",
   "metadata": {},
   "outputs": [],
   "source": [
    "train['d_sum'] = train.iloc[:,:3].sum(axis=1)"
   ]
  },
  {
   "cell_type": "code",
   "execution_count": 94,
   "id": "873b95c0-b50c-4fa9-aa39-5135fc3a5de7",
   "metadata": {},
   "outputs": [],
   "source": [
    "for content in train['d_sum'].items():  \n",
    "    if content ==3 :\n",
    "        train['d_match_all'] = 1\n",
    "    else: \n",
    "        train['d_match_all'] = 0"
   ]
  },
  {
   "cell_type": "code",
   "execution_count": null,
   "id": "7f58c974-301b-4258-bfb6-b88e3050dae0",
   "metadata": {},
   "outputs": [],
   "source": [
    "train"
   ]
  },
  {
   "cell_type": "code",
   "execution_count": null,
   "id": "42a2bc77-0bbf-473d-a53c-ccb2ad95032f",
   "metadata": {},
   "outputs": [],
   "source": [
    "from sklearn.preprocessing import MinMaxScaler\n",
    "sc = MinMaxScaler()\n",
    "train_sc = sc.fit_transform(train)\n",
    "test_sc = sc.transform(test)"
   ]
  },
  {
   "cell_type": "markdown",
   "id": "0bb3a227-7720-40de-8076-7d526c16b6ab",
   "metadata": {},
   "source": [
    "## Optuna"
   ]
  },
  {
   "cell_type": "code",
   "execution_count": 5,
   "id": "643f2602-4824-4ce5-ad53-4cce60cb47ec",
   "metadata": {},
   "outputs": [],
   "source": [
    "import optuna\n",
    "from optuna import Trial\n",
    "from optuna.samplers import TPESampler\n",
    "from tqdm import tqdm\n",
    "import warnings\n",
    "warnings.filterwarnings(action='ignore')\n",
    "from sklearn.model_selection import train_test_split\n",
    "from sklearn.metrics import f1_score\n",
    "from lightgbm import LGBMClassifier"
   ]
  },
  {
   "cell_type": "code",
   "execution_count": 6,
   "id": "a5fc53ab-36d1-47c5-921f-2cb34c38c071",
   "metadata": {},
   "outputs": [],
   "source": [
    "X_tr, X_val, y_tr, y_val = train_test_split(train_sc, y, stratify= y , test_size = 0.33, random_state=42)\n",
    "\n",
    "lgbm = LGBMClassifier(random_state =42,objective = 'binary',metric = 'binary_logloss')\n",
    "\n",
    "def objective(trial: Trial) -> float:\n",
    "    params_lgb = {\n",
    "        \"random_state\": 42,\n",
    "        'learning_rate': trial.suggest_float('learning_rate', 0.0001, 0.1, log=True), \n",
    "        'n_estimators': trial.suggest_int('n_estimators', 8, 1024, step=1, log=True), \n",
    "        \"metric\": \"f1_score\",\n",
    "        'class_weight': trial.suggest_categorical('class_weight', ['balanced', None]),\n",
    "        'min_child_samples': trial.suggest_int('min_child_samples', 10, 50, step=1, log=False), \n",
    "        \"max_depth\": trial.suggest_int(\"max_depth\", 1, 20),\n",
    "        \"num_leaves\": trial.suggest_int(\"num_leaves\", 2, 256),\n",
    "    }\n",
    "    X_tr, X_val, y_tr, y_val = train_test_split(train , y, test_size=0.2,random_state=42)\n",
    "\n",
    "    model = LGBMClassifier(**params_lgb)\n",
    "    model.fit(X_tr,y_tr,\n",
    "         eval_set=[(X_tr, y_tr), (X_val, y_val)],\n",
    "        verbose=False,\n",
    "    )\n",
    "    pred = model.predict(X_val)\n",
    "    score = f1_score(y_val,pred)\n",
    "    \n",
    "    return score\n",
    "\n"
   ]
  },
  {
   "cell_type": "code",
   "execution_count": 7,
   "id": "8ed2db14-7c10-4b46-87c1-6a0948178115",
   "metadata": {},
   "outputs": [
    {
     "name": "stderr",
     "output_type": "stream",
     "text": [
      "\u001b[32m[I 2021-12-10 10:22:27,176]\u001b[0m A new study created in memory with name: lgbm_parameter_opt\u001b[0m\n"
     ]
    }
   ],
   "source": [
    "sampler = TPESampler(seed=42)\n",
    "study = optuna.create_study(\n",
    "    study_name=\"lgbm_parameter_opt\",\n",
    "    direction=\"maximize\",\n",
    "    sampler=sampler)"
   ]
  },
  {
   "cell_type": "code",
   "execution_count": 8,
   "id": "882c6c6c-3088-4a5a-821c-10b9056ca0a1",
   "metadata": {},
   "outputs": [
    {
     "name": "stderr",
     "output_type": "stream",
     "text": [
      "\u001b[32m[I 2021-12-10 10:23:07,998]\u001b[0m Trial 0 finished with value: 0.6210562005736435 and parameters: {'learning_rate': 0.0013292918943162175, 'n_estimators': 804, 'class_weight': 'balanced', 'min_child_samples': 16, 'max_depth': 4, 'num_leaves': 16}. Best is trial 0 with value: 0.6210562005736435.\u001b[0m\n",
      "\u001b[32m[I 2021-12-10 10:23:15,540]\u001b[0m Trial 1 finished with value: 0.6340353196713572 and parameters: {'learning_rate': 0.0396760507705299, 'n_estimators': 144, 'class_weight': 'balanced', 'min_child_samples': 49, 'max_depth': 17, 'num_leaves': 56}. Best is trial 1 with value: 0.6340353196713572.\u001b[0m\n",
      "\u001b[32m[I 2021-12-10 10:23:17,208]\u001b[0m Trial 2 finished with value: 0.4121310949529512 and parameters: {'learning_rate': 0.0003511356313970409, 'n_estimators': 18, 'class_weight': None, 'min_child_samples': 27, 'max_depth': 6, 'num_leaves': 158}. Best is trial 1 with value: 0.6340353196713572.\u001b[0m\n",
      "\u001b[32m[I 2021-12-10 10:23:19,057]\u001b[0m Trial 3 finished with value: 0.5514221334126951 and parameters: {'learning_rate': 0.00026210878782654407, 'n_estimators': 32, 'class_weight': None, 'min_child_samples': 42, 'max_depth': 4, 'num_leaves': 133}. Best is trial 1 with value: 0.6340353196713572.\u001b[0m\n",
      "\u001b[32m[I 2021-12-10 10:23:20,684]\u001b[0m Trial 4 finished with value: 0.6237150905732888 and parameters: {'learning_rate': 0.005987474910461402, 'n_estimators': 9, 'class_weight': 'balanced', 'min_child_samples': 12, 'max_depth': 19, 'num_leaves': 248}. Best is trial 1 with value: 0.6340353196713572.\u001b[0m\n",
      "\u001b[32m[I 2021-12-10 10:23:22,383]\u001b[0m Trial 5 finished with value: 0.6141819388620524 and parameters: {'learning_rate': 0.026619018884890575, 'n_estimators': 34, 'class_weight': None, 'min_child_samples': 28, 'max_depth': 3, 'num_leaves': 128}. Best is trial 1 with value: 0.6340353196713572.\u001b[0m\n",
      "\u001b[32m[I 2021-12-10 10:24:01,011]\u001b[0m Trial 6 finished with value: 0.6079148845786225 and parameters: {'learning_rate': 0.00012681352169084607, 'n_estimators': 656, 'class_weight': None, 'min_child_samples': 22, 'max_depth': 11, 'num_leaves': 141}. Best is trial 1 with value: 0.6340353196713572.\u001b[0m\n",
      "\u001b[32m[I 2021-12-10 10:25:04,355]\u001b[0m Trial 7 finished with value: 0.619959591360519 and parameters: {'learning_rate': 0.00035856126103454, 'n_estimators': 882, 'class_weight': None, 'min_child_samples': 46, 'max_depth': 12, 'num_leaves': 237}. Best is trial 1 with value: 0.6340353196713572.\u001b[0m\n",
      "\u001b[32m[I 2021-12-10 10:25:06,100]\u001b[0m Trial 8 finished with value: 0.34255676425494636 and parameters: {'learning_rate': 0.00018427970406864567, 'n_estimators': 20, 'class_weight': None, 'min_child_samples': 25, 'max_depth': 6, 'num_leaves': 213}. Best is trial 1 with value: 0.6340353196713572.\u001b[0m\n",
      "\u001b[32m[I 2021-12-10 10:25:07,897]\u001b[0m Trial 9 finished with value: 0.6184444306941632 and parameters: {'learning_rate': 0.0011756010900231862, 'n_estimators': 30, 'class_weight': 'balanced', 'min_child_samples': 42, 'max_depth': 2, 'num_leaves': 253}. Best is trial 1 with value: 0.6340353196713572.\u001b[0m\n"
     ]
    }
   ],
   "source": [
    "study.optimize(objective, n_trials=10)"
   ]
  },
  {
   "cell_type": "code",
   "execution_count": 9,
   "id": "2b268af2-eb01-4605-8a9c-34bbd8fbc343",
   "metadata": {},
   "outputs": [
    {
     "name": "stdout",
     "output_type": "stream",
     "text": [
      "{'learning_rate': 0.0396760507705299, 'n_estimators': 144, 'class_weight': 'balanced', 'min_child_samples': 49, 'max_depth': 17, 'num_leaves': 56} \n",
      "\n"
     ]
    }
   ],
   "source": [
    "print(study.best_params,'\\n')"
   ]
  },
  {
   "cell_type": "code",
   "execution_count": null,
   "id": "4cd41173-4f2a-4596-8bb1-7076b3b41b23",
   "metadata": {},
   "outputs": [],
   "source": [
    "study."
   ]
  },
  {
   "cell_type": "code",
   "execution_count": 70,
   "id": "36d605f7-842e-4f33-9f5c-a212ecf068f9",
   "metadata": {},
   "outputs": [],
   "source": [
    "model = LGBMClassifier(**study.best_params,random_state=42)\n",
    "model.fit(X_tr,y_tr)\n",
    "fin_pred=model.predict(test_sc)\n",
    "\n"
   ]
  },
  {
   "cell_type": "code",
   "execution_count": 72,
   "id": "2f9d22d9-ee5f-4ebf-89eb-98e1a68ffa06",
   "metadata": {},
   "outputs": [],
   "source": [
    "sub['target'] = fin_pred\n",
    "sub.to_csv('sample2.csv',index=False)  "
   ]
  },
  {
   "cell_type": "code",
   "execution_count": null,
   "id": "3fe5565e-56ac-4b58-8d97-b86a691dc291",
   "metadata": {},
   "outputs": [],
   "source": []
  },
  {
   "cell_type": "markdown",
   "id": "6a87c1b2-d0be-4ce0-87ec-58beb6148ea3",
   "metadata": {},
   "source": [
    "## voting \n",
    "\n",
    "- lgbm + rf + xgb\n",
    "- voting model도 Optuna로 파라미터 찾고 최종 결합"
   ]
  },
  {
   "cell_type": "code",
   "execution_count": 10,
   "id": "326d8be7-13ca-462f-8964-4134fd972a9c",
   "metadata": {},
   "outputs": [],
   "source": [
    "from sklearn.ensemble import VotingClassifier, RandomForestClassifier\n",
    "from xgboost import XGBClassifier"
   ]
  },
  {
   "cell_type": "code",
   "execution_count": 18,
   "id": "3409849c-a0ba-4c97-81df-ecb38f054c30",
   "metadata": {},
   "outputs": [
    {
     "name": "stderr",
     "output_type": "stream",
     "text": [
      "\u001b[32m[I 2021-12-10 10:28:01,289]\u001b[0m A new study created in memory with name: rf_parameter_opt\u001b[0m\n",
      "\u001b[32m[I 2021-12-10 10:28:45,759]\u001b[0m Trial 0 finished with value: 0.6312909551824747 and parameters: {'n_estimators': 47, 'max_depth': 20}. Best is trial 0 with value: 0.6312909551824747.\u001b[0m\n",
      "\u001b[32m[I 2021-12-10 10:31:20,625]\u001b[0m Trial 1 finished with value: 0.6223669965241506 and parameters: {'n_estimators': 274, 'max_depth': 12}. Best is trial 0 with value: 0.6312909551824747.\u001b[0m\n",
      "\u001b[32m[I 2021-12-10 10:31:26,304]\u001b[0m Trial 2 finished with value: 0.5857368116404862 and parameters: {'n_estimators': 16, 'max_depth': 4}. Best is trial 0 with value: 0.6312909551824747.\u001b[0m\n",
      "\u001b[32m[I 2021-12-10 10:31:34,811]\u001b[0m Trial 3 finished with value: 0.6113516020561974 and parameters: {'n_estimators': 10, 'max_depth': 18}. Best is trial 0 with value: 0.6312909551824747.\u001b[0m\n",
      "\u001b[32m[I 2021-12-10 10:33:10,514]\u001b[0m Trial 4 finished with value: 0.6282587215930683 and parameters: {'n_estimators': 144, 'max_depth': 15}. Best is trial 0 with value: 0.6312909551824747.\u001b[0m\n",
      "\u001b[32m[I 2021-12-10 10:33:19,039]\u001b[0m Trial 5 finished with value: 0.6061402830407548 and parameters: {'n_estimators': 8, 'max_depth': 20}. Best is trial 0 with value: 0.6312909551824747.\u001b[0m\n",
      "\u001b[32m[I 2021-12-10 10:35:33,297]\u001b[0m Trial 6 finished with value: 0.5895929584196272 and parameters: {'n_estimators': 449, 'max_depth': 5}. Best is trial 0 with value: 0.6312909551824747.\u001b[0m\n",
      "\u001b[32m[I 2021-12-10 10:35:37,295]\u001b[0m Trial 7 finished with value: 0.5867622175773863 and parameters: {'n_estimators': 18, 'max_depth': 4}. Best is trial 0 with value: 0.6312909551824747.\u001b[0m\n",
      "\u001b[32m[I 2021-12-10 10:35:53,715]\u001b[0m Trial 8 finished with value: 0.6204845522911102 and parameters: {'n_estimators': 33, 'max_depth': 11}. Best is trial 0 with value: 0.6312909551824747.\u001b[0m\n",
      "\u001b[32m[I 2021-12-10 10:36:15,868]\u001b[0m Trial 9 finished with value: 0.6051950820148626 and parameters: {'n_estimators': 63, 'max_depth': 6}. Best is trial 0 with value: 0.6312909551824747.\u001b[0m\n"
     ]
    },
    {
     "name": "stdout",
     "output_type": "stream",
     "text": [
      "{'n_estimators': 47, 'max_depth': 20} \n",
      "\n"
     ]
    },
    {
     "ename": "TypeError",
     "evalue": "__init__() got an unexpected keyword argument 'learning_rate'",
     "output_type": "error",
     "traceback": [
      "\u001b[1;31m---------------------------------------------------------------------------\u001b[0m",
      "\u001b[1;31mTypeError\u001b[0m                                 Traceback (most recent call last)",
      "\u001b[1;32m<ipython-input-18-05936d830aa7>\u001b[0m in \u001b[0;36m<module>\u001b[1;34m\u001b[0m\n\u001b[0;32m     29\u001b[0m \u001b[1;33m\u001b[0m\u001b[0m\n\u001b[0;32m     30\u001b[0m \u001b[1;33m\u001b[0m\u001b[0m\n\u001b[1;32m---> 31\u001b[1;33m \u001b[0mmodel2\u001b[0m \u001b[1;33m=\u001b[0m \u001b[0mRandomForestClassifier\u001b[0m\u001b[1;33m(\u001b[0m\u001b[1;33m**\u001b[0m\u001b[0mstudy\u001b[0m\u001b[1;33m.\u001b[0m\u001b[0mbest_params\u001b[0m\u001b[1;33m,\u001b[0m\u001b[0mrandom_state\u001b[0m\u001b[1;33m=\u001b[0m\u001b[1;36m42\u001b[0m\u001b[1;33m)\u001b[0m\u001b[1;33m\u001b[0m\u001b[1;33m\u001b[0m\u001b[0m\n\u001b[0m\u001b[0;32m     32\u001b[0m \u001b[0mmodel2\u001b[0m\u001b[1;33m.\u001b[0m\u001b[0mfit\u001b[0m\u001b[1;33m(\u001b[0m\u001b[0mX_tr\u001b[0m\u001b[1;33m,\u001b[0m\u001b[0my_tr\u001b[0m\u001b[1;33m)\u001b[0m\u001b[1;33m\u001b[0m\u001b[1;33m\u001b[0m\u001b[0m\n\u001b[0;32m     33\u001b[0m \u001b[0mfin_pred\u001b[0m\u001b[1;33m=\u001b[0m\u001b[0mmodel2\u001b[0m\u001b[1;33m.\u001b[0m\u001b[0mpredict\u001b[0m\u001b[1;33m(\u001b[0m\u001b[0mtest_sc\u001b[0m\u001b[1;33m)\u001b[0m\u001b[1;33m\u001b[0m\u001b[1;33m\u001b[0m\u001b[0m\n",
      "\u001b[1;32m~\\anaconda3\\lib\\site-packages\\sklearn\\utils\\validation.py\u001b[0m in \u001b[0;36minner_f\u001b[1;34m(*args, **kwargs)\u001b[0m\n\u001b[0;32m     61\u001b[0m             \u001b[0mextra_args\u001b[0m \u001b[1;33m=\u001b[0m \u001b[0mlen\u001b[0m\u001b[1;33m(\u001b[0m\u001b[0margs\u001b[0m\u001b[1;33m)\u001b[0m \u001b[1;33m-\u001b[0m \u001b[0mlen\u001b[0m\u001b[1;33m(\u001b[0m\u001b[0mall_args\u001b[0m\u001b[1;33m)\u001b[0m\u001b[1;33m\u001b[0m\u001b[1;33m\u001b[0m\u001b[0m\n\u001b[0;32m     62\u001b[0m             \u001b[1;32mif\u001b[0m \u001b[0mextra_args\u001b[0m \u001b[1;33m<=\u001b[0m \u001b[1;36m0\u001b[0m\u001b[1;33m:\u001b[0m\u001b[1;33m\u001b[0m\u001b[1;33m\u001b[0m\u001b[0m\n\u001b[1;32m---> 63\u001b[1;33m                 \u001b[1;32mreturn\u001b[0m \u001b[0mf\u001b[0m\u001b[1;33m(\u001b[0m\u001b[1;33m*\u001b[0m\u001b[0margs\u001b[0m\u001b[1;33m,\u001b[0m \u001b[1;33m**\u001b[0m\u001b[0mkwargs\u001b[0m\u001b[1;33m)\u001b[0m\u001b[1;33m\u001b[0m\u001b[1;33m\u001b[0m\u001b[0m\n\u001b[0m\u001b[0;32m     64\u001b[0m \u001b[1;33m\u001b[0m\u001b[0m\n\u001b[0;32m     65\u001b[0m             \u001b[1;31m# extra_args > 0\u001b[0m\u001b[1;33m\u001b[0m\u001b[1;33m\u001b[0m\u001b[1;33m\u001b[0m\u001b[0m\n",
      "\u001b[1;31mTypeError\u001b[0m: __init__() got an unexpected keyword argument 'learning_rate'"
     ]
    }
   ],
   "source": [
    "def objective_2(trial: Trial) -> float:\n",
    "    params_rf = {\n",
    "        \"random_state\": 42,\n",
    "        'n_estimators': trial.suggest_int('n_estimators', 8, 1024, step=1, log=True), \n",
    "        \"max_depth\": trial.suggest_int(\"max_depth\", 1, 20) }\n",
    "    \n",
    "    X_tr, X_val, y_tr, y_val = train_test_split(train , y, test_size=0.2,random_state=42)\n",
    "    \n",
    "    model = RandomForestClassifier(**params_rf)\n",
    "    model.fit(X_tr, y_tr)\n",
    "    pred = model.predict(X_val)\n",
    "    score = f1_score(y_val,pred)\n",
    "    return score\n",
    "\n",
    "sampler = TPESampler(seed=42)\n",
    "study_rf = optuna.create_study(\n",
    "    study_name=\"rf_parameter_opt\",\n",
    "    direction=\"maximize\",\n",
    "    sampler=sampler)\n",
    "\n",
    "study_rf.optimize(objective_2, n_trials=10)\n",
    "print(study_rf.best_params,'\\n')\n",
    "\n",
    "\n",
    "model2 = RandomForestClassifier(**study.best_params,random_state=42)\n",
    "model2.fit(X_tr,y_tr)\n",
    "fin_pred=model2.predict(test_sc)"
   ]
  },
  {
   "cell_type": "code",
   "execution_count": null,
   "id": "05f5b6bc-47e2-4f54-a400-c64953d0529a",
   "metadata": {},
   "outputs": [],
   "source": []
  },
  {
   "cell_type": "code",
   "execution_count": 25,
   "id": "85a4febe-b1e5-41a7-9b32-5c4c8bfed6c1",
   "metadata": {},
   "outputs": [
    {
     "name": "stdout",
     "output_type": "stream",
     "text": [
      "보팅 분류기:  0.6358\n"
     ]
    }
   ],
   "source": [
    "model = LGBMClassifier(**study.best_params,random_state=42)\n",
    "model2 = RandomForestClassifier(n_estimators= 47, max_depth=20)\n",
    "\n",
    "voting_model = VotingClassifier(estimators=[ ('lgbm', model),\n",
    "                                            ('RF', model2) ], voting='soft')\n",
    "\n",
    "\n",
    "    \n",
    "voting_model.fit(X_tr, y_tr)\n",
    "pred_voting = voting_model.predict(X_val)\n",
    "print('보팅 분류기: {0: .4f}'.format(f1_score(y_val, pred_voting)))\n",
    "\n",
    "\n",
    "voting_pred =voting_model.predict(test_sc)\n",
    "\n",
    "sub['target'] = voting_pred\n",
    "sub.to_csv('sample3.csv',index=False)  "
   ]
  },
  {
   "cell_type": "code",
   "execution_count": null,
   "id": "d38f67cc-139b-471f-a780-6fe349ccc48f",
   "metadata": {},
   "outputs": [],
   "source": []
  },
  {
   "cell_type": "markdown",
   "id": "6c7a26da-f285-42a1-88cf-28216f583428",
   "metadata": {},
   "source": [
    "## Submit History\n",
    "- 1등 : 0.69\n",
    "- #### sample2 \n",
    "    - drop: 'id','target','person_rn','contents_rn','contents_open_dt'\n",
    "    - MinMax, lgbm, optuna -> 0.63445 (38등)\n",
    "    \n",
    "- #### sample3\n",
    "    - drop: 'id','target','person_rn','contents_rn','contents_open_dt'\n",
    "    - Mimax, lgbm+rf_optuna (voting) -> 0.6323 // 더 낮아졌음 !"
   ]
  },
  {
   "cell_type": "code",
   "execution_count": null,
   "id": "6d00ecbe-9b58-4dc6-9058-54d8e251b0fd",
   "metadata": {},
   "outputs": [],
   "source": []
  }
 ],
 "metadata": {
  "kernelspec": {
   "display_name": "Python 3",
   "language": "python",
   "name": "python3"
  },
  "language_info": {
   "codemirror_mode": {
    "name": "ipython",
    "version": 3
   },
   "file_extension": ".py",
   "mimetype": "text/x-python",
   "name": "python",
   "nbconvert_exporter": "python",
   "pygments_lexer": "ipython3",
   "version": "3.8.8"
  }
 },
 "nbformat": 4,
 "nbformat_minor": 5
}
